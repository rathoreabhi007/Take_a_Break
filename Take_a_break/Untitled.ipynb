{
 "cells": [
  {
   "cell_type": "code",
   "execution_count": 2,
   "metadata": {},
   "outputs": [
    {
     "name": "stdout",
     "output_type": "stream",
     "text": [
      "scheduleWed Oct 17 18:50:37 2018\n"
     ]
    }
   ],
   "source": [
    "import time\n",
    "import webbrowser\n",
    "\n",
    "total_breaks=4\n",
    "break_counts=0\n",
    "print(\"schedule\" + time.ctime())\n",
    "\n",
    "while (break_counts<total_breaks):\n",
    "    time.sleep(7200)\n",
    "    webbrowser.open(\"https://www.youtube.com/watch?v=BaEvOYgf4l4&t=16s\")\n",
    "    break_counts=break_counts+1"
   ]
  },
  {
   "cell_type": "code",
   "execution_count": null,
   "metadata": {
    "collapsed": true
   },
   "outputs": [],
   "source": []
  }
 ],
 "metadata": {
  "kernelspec": {
   "display_name": "Python 3",
   "language": "python",
   "name": "python3"
  },
  "language_info": {
   "codemirror_mode": {
    "name": "ipython",
    "version": 3
   },
   "file_extension": ".py",
   "mimetype": "text/x-python",
   "name": "python",
   "nbconvert_exporter": "python",
   "pygments_lexer": "ipython3",
   "version": "3.6.3"
  }
 },
 "nbformat": 4,
 "nbformat_minor": 2
}
